{
 "cells": [
  {
   "cell_type": "code",
   "execution_count": 1,
   "metadata": {},
   "outputs": [],
   "source": [
    "import numpy as np\n",
    "import pandas as pd\n",
    "import mne\n",
    "import os\n",
    "import matplotlib.pyplot as pl\n",
    "from   matplotlib.backends.backend_pdf import PdfPages\n",
    "%matplotlib inline\n",
    "# %matplotlib notebook\n",
    "from jumeg.base.jumeg_base import jumeg_base as jb\n"
   ]
  },
  {
   "cell_type": "code",
   "execution_count": 2,
   "metadata": {},
   "outputs": [],
   "source": [
    "\n",
    "from jumeg.base.pipelines.jumeg_pipelines_ica_perfromance  import JuMEG_ICA_PERFORMANCE,JuMEG_ICA_PLOT_PERFORMANCE"
   ]
  },
  {
   "cell_type": "code",
   "execution_count": 3,
   "metadata": {},
   "outputs": [
    {
     "name": "stdout",
     "output_type": "stream",
     "text": [
      "Opening raw data file /home/fboers/MEGBoers/data/exp/MEG94T/mne/206720/MEG94T0T2/130820_1335/1/206720_MEG94T0T2_130820_1335_1_c,rfDC,meeg,nr,bcc,int,fibp0.10-45.0-raw.fif...\n",
      "    Range : 0 ... 656979 =      0.000 ...   645.838 secs\n",
      "Ready.\n",
      "Current compensation grade : 0\n",
      "Reading 0 ... 656979  =      0.000 ...   645.838 secs...\n"
     ]
    }
   ],
   "source": [
    "praw   =\"~/MEGBoers/data/exp/MEG94T/mne/206720/MEG94T0T2/130820_1335/1\"\n",
    "fname =\"206720_MEG94T0T2_130820_1335_1_c,rfDC,meeg,nr,bcc,int,fibp0.10-45.0-raw.fif\"\n",
    "f     = os.path.join(praw,fname)\n",
    "raw,raw_fname = jb.get_raw_obj(f,raw=None)\n"
   ]
  },
  {
   "cell_type": "code",
   "execution_count": 4,
   "metadata": {},
   "outputs": [
    {
     "name": "stdout",
     "output_type": "stream",
     "text": [
      "Opening raw data file /home/fboers/MEGBoers/data/exp/MEG94T/mne/206720/MEG94T0T2/130820_1335/1/206720_MEG94T0T2_130820_1335_1_c,rfDC,meeg,nr,bcc,int,fibp0.10-45.0,ar-raw.fif...\n",
      "    Range : 0 ... 656983 =      0.000 ...   645.842 secs\n",
      "Ready.\n",
      "Current compensation grade : 0\n",
      "Reading 0 ... 656983  =      0.000 ...   645.842 secs...\n"
     ]
    }
   ],
   "source": [
    "fname_ar = \"206720_MEG94T0T2_130820_1335_1_c,rfDC,meeg,nr,bcc,int,fibp0.10-45.0,ar-raw.fif\"\n",
    "f        = os.path.join(praw,fname_ar)\n",
    "raw_ar,raw_fname_ar = jb.get_raw_obj(f,raw=None)\n"
   ]
  },
  {
   "cell_type": "code",
   "execution_count": 5,
   "metadata": {},
   "outputs": [],
   "source": [
    "picks = jb.picks.meg_nobads(raw)\n",
    "tmin  = -0.4\n",
    "tmax  =  0.4"
   ]
  },
  {
   "cell_type": "code",
   "execution_count": 8,
   "metadata": {},
   "outputs": [],
   "source": [
    "# jIP=JuMEG_ICA_PERFORMANCE()\n",
    "jIP=JuMEG_ICA_PLOT_PERFORMANCE()"
   ]
  },
  {
   "cell_type": "code",
   "execution_count": null,
   "metadata": {},
   "outputs": [],
   "source": [
    "jIP.plot(raw,raw_ar,ch_name=\"ECG\",event_id=999,picks=picks,tmin=tmin,tmax=tmax,show=True)"
   ]
  },
  {
   "cell_type": "code",
   "execution_count": null,
   "metadata": {},
   "outputs": [],
   "source": [
    "performance_plot(self,raw,raw_clean,ch_name=\"ECG\",event_id=999,picks=None,tmin=None,tmax=None,\n",
    "                         colors=[\"black\",\"grey80\",\"red\",\"magenta\",\"geen\"],alpha=0.33,grid=True,show=False,\n",
    "                         scale={\"raw\":{\"factor\":10**12,\"unit\":\"pT\"},\"ref\":{\"factor\":10**3,\"unit\":\"mV\"}},\n",
    "                         offset=0.1):"
   ]
  },
  {
   "cell_type": "code",
   "execution_count": null,
   "metadata": {},
   "outputs": [],
   "source": []
  }
 ],
 "metadata": {
  "kernelspec": {
   "display_name": "Python 3",
   "language": "python",
   "name": "python3"
  },
  "language_info": {
   "codemirror_mode": {
    "name": "ipython",
    "version": 3
   },
   "file_extension": ".py",
   "mimetype": "text/x-python",
   "name": "python",
   "nbconvert_exporter": "python",
   "pygments_lexer": "ipython3",
   "version": "3.7.6"
  }
 },
 "nbformat": 4,
 "nbformat_minor": 4
}
