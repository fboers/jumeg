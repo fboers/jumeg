{
 "cells": [
  {
   "cell_type": "code",
   "execution_count": null,
   "metadata": {},
   "outputs": [],
   "source": [
    "import numpy as np\n",
    "import pandas as pd\n",
    "import mne\n",
    "import os\n",
    "import matplotlib.pyplot as pl\n",
    "from   matplotlib.backends.backend_pdf import PdfPages\n",
    "%matplotlib inline\n",
    "# %matplotlib notebook\n",
    "from jumeg.base.jumeg_base import jumeg_base as jb\n"
   ]
  },
  {
   "cell_type": "code",
   "execution_count": null,
   "metadata": {},
   "outputs": [],
   "source": [
    "p=\"/home/fboers/MEGBoers/data/exp/QUATERS/mne/210857/QUATERS01/191210_1325/1/\"\n",
    "f=\"210857_QUATERS01_191210_1325_1_c,rfDC,meeg,nr,bcc,int-raw.fif\"\n",
    "fraw=os.path.join(p,f)"
   ]
  },
  {
   "cell_type": "code",
   "execution_count": null,
   "metadata": {},
   "outputs": [],
   "source": []
  },
  {
   "cell_type": "code",
   "execution_count": null,
   "metadata": {},
   "outputs": [],
   "source": []
  }
 ],
 "metadata": {
  "kernelspec": {
   "display_name": "Python 3",
   "language": "python",
   "name": "python3"
  },
  "language_info": {
   "codemirror_mode": {
    "name": "ipython",
    "version": 3
   },
   "file_extension": ".py",
   "mimetype": "text/x-python",
   "name": "python",
   "nbconvert_exporter": "python",
   "pygments_lexer": "ipython3",
   "version": "3.7.6"
  }
 },
 "nbformat": 4,
 "nbformat_minor": 2
}
